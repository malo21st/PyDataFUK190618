{
 "cells": [
  {
   "cell_type": "markdown",
   "metadata": {
    "scrolled": false
   },
   "source": [
    "# コロプレス図 ( Choropleth ) 　〜 塗り分け地図 〜"
   ]
  },
  {
   "cell_type": "code",
   "execution_count": 19,
   "metadata": {
    "scrolled": false
   },
   "outputs": [
    {
     "data": {
      "text/html": [
       "<div>\n",
       "<style scoped>\n",
       "    .dataframe tbody tr th:only-of-type {\n",
       "        vertical-align: middle;\n",
       "    }\n",
       "\n",
       "    .dataframe tbody tr th {\n",
       "        vertical-align: top;\n",
       "    }\n",
       "\n",
       "    .dataframe thead th {\n",
       "        text-align: right;\n",
       "    }\n",
       "</style>\n",
       "<table border=\"1\" class=\"dataframe\">\n",
       "  <thead>\n",
       "    <tr style=\"text-align: right;\">\n",
       "      <th></th>\n",
       "      <th>pref</th>\n",
       "      <th>pol</th>\n",
       "      <th>rad</th>\n",
       "      <th>index</th>\n",
       "    </tr>\n",
       "    <tr>\n",
       "      <th>id</th>\n",
       "      <th></th>\n",
       "      <th></th>\n",
       "      <th></th>\n",
       "      <th></th>\n",
       "    </tr>\n",
       "  </thead>\n",
       "  <tbody>\n",
       "    <tr>\n",
       "      <th>1</th>\n",
       "      <td>北海道</td>\n",
       "      <td>札幌</td>\n",
       "      <td>0.029</td>\n",
       "      <td>1</td>\n",
       "    </tr>\n",
       "    <tr>\n",
       "      <th>2</th>\n",
       "      <td>青森県</td>\n",
       "      <td>青森</td>\n",
       "      <td>0.030</td>\n",
       "      <td>2</td>\n",
       "    </tr>\n",
       "    <tr>\n",
       "      <th>3</th>\n",
       "      <td>岩手県</td>\n",
       "      <td>盛岡</td>\n",
       "      <td>0.027</td>\n",
       "      <td>3</td>\n",
       "    </tr>\n",
       "    <tr>\n",
       "      <th>4</th>\n",
       "      <td>宮城県</td>\n",
       "      <td>仙台</td>\n",
       "      <td>0.038</td>\n",
       "      <td>4</td>\n",
       "    </tr>\n",
       "    <tr>\n",
       "      <th>5</th>\n",
       "      <td>秋田県</td>\n",
       "      <td>秋田</td>\n",
       "      <td>0.036</td>\n",
       "      <td>5</td>\n",
       "    </tr>\n",
       "  </tbody>\n",
       "</table>\n",
       "</div>"
      ],
      "text/plain": [
       "   pref pol    rad  index\n",
       "id                       \n",
       "1   北海道  札幌  0.029      1\n",
       "2   青森県  青森  0.030      2\n",
       "3   岩手県  盛岡  0.027      3\n",
       "4   宮城県  仙台  0.038      4\n",
       "5   秋田県  秋田  0.036      5"
      ]
     },
     "metadata": {},
     "output_type": "display_data"
    },
    {
     "data": {
      "text/plain": [
       "pref      object\n",
       "pol       object\n",
       "rad      float64\n",
       "index      int64\n",
       "dtype: object"
      ]
     },
     "metadata": {},
     "output_type": "display_data"
    }
   ],
   "source": [
    "'''\n",
    "CSVデータ（data/data.csv）からデータフレームに読込:df_src\n",
    "　id：インデックス\n",
    "　pref：都道府県名\n",
    "　pol：県庁所在地\n",
    "　rad：自然放射線量（単位：μSv/h）\n",
    "'''\n",
    "import pandas as pd\n",
    "\n",
    "df_src = pd.read_csv('data_geo/data.csv', index_col=0)\n",
    "#df_src = pd.read_csv('data/data.csv', encoding='cp932', dtype='object', index_col=0)\n",
    "\n",
    "df_src['index'] = df_src.index\n",
    "df_src['rad'] = df_src['rad'].astype('float64')\n",
    "\n",
    "display(df_src.head())\n",
    "display(df_src.dtypes)\n"
   ]
  },
  {
   "cell_type": "code",
   "execution_count": null,
   "metadata": {
    "scrolled": false
   },
   "outputs": [],
   "source": [
    "'''\n",
    "コロプレス図を描く\n",
    "'''\n",
    "import folium\n",
    "from IPython.display import IFrame\n",
    "\n",
    "# マップオブジェクトの生成\n",
    "center = [38, 137]\n",
    "map_JPN = folium.Map(location=center, tiles='cartodbpositron', zoom_start=6)\n",
    "\n",
    "\n",
    "# STEP1:コロプレス図を描く\n",
    "folium.Choropleth(\n",
    "    geo_data = 'data_geo/japan.geojson',\n",
    "    data = df_src,\n",
    "    columns = ['index', 'rad'],\n",
    "    key_on = 'feature.properties.id',\n",
    "    fill_color = 'YlOrRd'\n",
    ").add_to(map_JPN)\n",
    "\n",
    "# HTMLに出力\n",
    "html = 'result/3_map_JPN.html'\n",
    "map_JPN.save(html)\n",
    "IFrame(html, width=750, height=750)\n"
   ]
  },
  {
   "cell_type": "code",
   "execution_count": 3,
   "metadata": {
    "scrolled": false
   },
   "outputs": [
    {
     "data": {
      "text/plain": [
       "id          object\n",
       "geometry    object\n",
       "dtype: object"
      ]
     },
     "metadata": {},
     "output_type": "display_data"
    },
    {
     "data": {
      "text/html": [
       "<div>\n",
       "<style scoped>\n",
       "    .dataframe tbody tr th:only-of-type {\n",
       "        vertical-align: middle;\n",
       "    }\n",
       "\n",
       "    .dataframe tbody tr th {\n",
       "        vertical-align: top;\n",
       "    }\n",
       "\n",
       "    .dataframe thead th {\n",
       "        text-align: right;\n",
       "    }\n",
       "</style>\n",
       "<table border=\"1\" class=\"dataframe\">\n",
       "  <thead>\n",
       "    <tr style=\"text-align: right;\">\n",
       "      <th></th>\n",
       "      <th>id</th>\n",
       "      <th>geometry</th>\n",
       "    </tr>\n",
       "  </thead>\n",
       "  <tbody>\n",
       "    <tr>\n",
       "      <th>0</th>\n",
       "      <td>40101</td>\n",
       "      <td>POLYGON ((131.000497886 33.867846279, 131.0004...</td>\n",
       "    </tr>\n",
       "    <tr>\n",
       "      <th>1</th>\n",
       "      <td>40101</td>\n",
       "      <td>POLYGON ((131.003197471 33.868998748, 131.0009...</td>\n",
       "    </tr>\n",
       "    <tr>\n",
       "      <th>2</th>\n",
       "      <td>40101</td>\n",
       "      <td>POLYGON ((131.008333333 33.871948468, 131.0048...</td>\n",
       "    </tr>\n",
       "    <tr>\n",
       "      <th>3</th>\n",
       "      <td>40101</td>\n",
       "      <td>POLYGON ((130.987342438 33.873611694, 130.9872...</td>\n",
       "    </tr>\n",
       "    <tr>\n",
       "      <th>4</th>\n",
       "      <td>40101</td>\n",
       "      <td>POLYGON ((130.995655694 33.878193829, 130.9956...</td>\n",
       "    </tr>\n",
       "  </tbody>\n",
       "</table>\n",
       "</div>"
      ],
      "text/plain": [
       "      id                                           geometry\n",
       "0  40101  POLYGON ((131.000497886 33.867846279, 131.0004...\n",
       "1  40101  POLYGON ((131.003197471 33.868998748, 131.0009...\n",
       "2  40101  POLYGON ((131.008333333 33.871948468, 131.0048...\n",
       "3  40101  POLYGON ((130.987342438 33.873611694, 130.9872...\n",
       "4  40101  POLYGON ((130.995655694 33.878193829, 130.9956..."
      ]
     },
     "metadata": {},
     "output_type": "display_data"
    }
   ],
   "source": [
    "import pandas as pd\n",
    "import geopandas as gpd\n",
    "\n",
    "df = gpd.read_file('data_geo/40fukuoka.json')\n",
    "display(df.dtypes)\n",
    "display(df.head())\n"
   ]
  },
  {
   "cell_type": "code",
   "execution_count": null,
   "metadata": {},
   "outputs": [],
   "source": []
  }
 ],
 "metadata": {
  "kernelspec": {
   "display_name": "Python 3",
   "language": "python",
   "name": "python3"
  },
  "language_info": {
   "codemirror_mode": {
    "name": "ipython",
    "version": 3
   },
   "file_extension": ".py",
   "mimetype": "text/x-python",
   "name": "python",
   "nbconvert_exporter": "python",
   "pygments_lexer": "ipython3",
   "version": "3.7.1"
  }
 },
 "nbformat": 4,
 "nbformat_minor": 2
}
